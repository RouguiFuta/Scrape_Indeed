{
 "cells": [
  {
   "cell_type": "code",
   "execution_count": 1,
   "metadata": {
    "collapsed": true
   },
   "outputs": [],
   "source": [
    "%matplotlib inline\n",
    "import pandas as pd\n",
    "import seaborn as sns\n",
    "sns.set_style('whitegrid')\n",
    "sns.set_context('poster')\n",
    "import requests\n",
    "import bs4"
   ]
  },
  {
   "cell_type": "code",
   "execution_count": 2,
   "metadata": {},
   "outputs": [
    {
     "name": "stdout",
     "output_type": "stream",
     "text": [
      "<title>Web Developer Jobs, Employment in Boston, MA | Indeed.com</title>\n",
      "<!DOCTYPE html>\n",
      "<html lang=\"en\">\n",
      " <head>\n",
      "  <meta content=\"text/html;charset=utf-8\" http-equiv=\"content-type\"/>\n",
      "  <script src=\"/s/f42152d/en_US.js\" type=\"text/javascript\">\n",
      "  </script>\n",
      "  <link href=\"/s/ecdfb5e/jobsearch_all.css\" rel=\"stylesheet\" type=\"text/css\"/>\n",
      "  <link href=\"http://rss.indeed.com/rss?q=web+developer&amp;l=Boston%2C+MA\" rel=\"alternate\" title=\"Web Developer Jobs, Employment in Boston, MA\" type=\"application/rss+xml\"/>\n",
      "  <link href=\"/m/jobs?q=web+developer&amp;l=Boston%2C+MA\" media=\"only screen and (max-width: 640px)\" rel=\"alternate\"/>\n",
      "  <link href=\"/m/jobs?q=web+developer&amp;l=Boston%2C+MA\" media=\"handheld\" rel=\"alternate\"/>\n",
      "  <script type=\"text/javascript\">\n",
      "   if (typeof window['closureReadyCallbacks'] == 'undefined') {\n",
      "        window['closureReadyCallbacks'] = [];\n",
      "    }\n",
      "\n",
      "    function call_when_jsall_loaded(cb) {\n",
      "        if (window['closureReady']) {\n",
      "            cb();\n",
      "        } else {\n",
      "            window['closureReadyCallbacks'].push(cb);\n",
      "        }\n",
      "    }\n",
      "  </script>\n",
      "  <m\n"
     ]
    }
   ],
   "source": [
    "#request web page and parse with Beautiful Soup\n",
    "req = requests.get('https://www.indeed.com/jobs?q=web+developer&l=Boston%2C+MA')\n",
    "page = req.text\n",
    "soup = bs4.BeautifulSoup(page,'html.parser')\n",
    "\n",
    "#check that the parser worked\n",
    "print(soup.title)\n",
    "print(soup.prettify()[:1000])"
   ]
  },
  {
   "cell_type": "code",
   "execution_count": null,
   "metadata": {
    "collapsed": true
   },
   "outputs": [],
   "source": []
  }
 ],
 "metadata": {
  "kernelspec": {
   "display_name": "Python 3",
   "language": "python",
   "name": "python3"
  },
  "language_info": {
   "codemirror_mode": {
    "name": "ipython",
    "version": 3
   },
   "file_extension": ".py",
   "mimetype": "text/x-python",
   "name": "python",
   "nbconvert_exporter": "python",
   "pygments_lexer": "ipython3",
   "version": "3.6.3"
  }
 },
 "nbformat": 4,
 "nbformat_minor": 2
}
